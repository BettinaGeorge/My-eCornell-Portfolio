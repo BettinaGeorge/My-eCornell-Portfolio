{
 "cells": [
  {
   "cell_type": "markdown",
   "metadata": {},
   "source": [
    "# Assignment 4: Optimizing Logistic Regression"
   ]
  },
  {
   "cell_type": "code",
   "execution_count": 1,
   "metadata": {},
   "outputs": [],
   "source": [
    "import pandas as pd\n",
    "import numpy as np\n",
    "import os \n",
    "import matplotlib.pyplot as plt\n",
    "import seaborn as sns\n",
    "%matplotlib inline\n",
    "\n",
    "from sklearn.linear_model import LogisticRegression\n",
    "from sklearn.model_selection import train_test_split \n",
    "from sklearn.metrics import log_loss\n",
    "from sklearn.metrics import accuracy_score"
   ]
  },
  {
   "cell_type": "markdown",
   "metadata": {},
   "source": [
    "In this assignment, you will continue practicing the fourth step of the machine learning life cycle and train logistic regression models that will be used to solve a classification problem.  You will build many variants, each one with a different value of the $C$ hyperparameter, which governs the amount of regularization used. Regularization is a process where we add a \"penalty\" to the original log loss function. This penalty is a function of the magnitudes of the weights learned in the Logistic Regression. The following shows the regularized log loss using what is called \"L2\" regularization.<br><br> \n",
    "\n",
    "<center>$Regularized \\ LogLoss = -\\frac{1}{N} \\sum\\limits_{i=1}^N (y_ilog(P_i)+(1-y_i)log(1-P_i))+\\frac{1}{C} \\sum\\limits_{j=1}^m w_j^2$</center><br><br>\n",
    "\n",
    "\n",
    "With L2 regularization, the penalty is the sum of the squares of the weights scaled by a constant $1/C$. When the hyperparameter $C$ is large, we reduce the weight of the penalty, which results in less regularization. You will build Logistic regressions with different values of $C$ and will check how this impacts the log loss.\n",
    "\n",
    "\n",
    "You will complete the following tasks:\n",
    "\n",
    "1. Build your DataFrame and define your ML problem:\n",
    "    * Load the \"cell2cell\" data set into a DataFrame\n",
    "    * Define the label - what are you predicting?\n",
    "    * Identify features\n",
    "3. Create labeled examples from the data set\n",
    "4. Split the data into training and test data sets\n",
    "5. Train logistic regression classifiers and evaluate their performances:\n",
    "    * Fit logistic regression models to the training data using different hyperparameter values per classifier\n",
    "    * Evaluate the accuracy of each model's predictions\n",
    "    * Plot and analyize the resulting log loss and accuracy scores"
   ]
  },
  {
   "cell_type": "markdown",
   "metadata": {},
   "source": [
    "## Part 1. Build Your DataFrame and Define Your ML Problem"
   ]
  },
  {
   "cell_type": "markdown",
   "metadata": {},
   "source": [
    "#### Load a Data Set and Save it as a Pandas DataFrame"
   ]
  },
  {
   "cell_type": "markdown",
   "metadata": {},
   "source": [
    "We will work with the \"cell2celltrain\" data set. This version of the data set has been preprocessed and is ready for modeling."
   ]
  },
  {
   "cell_type": "code",
   "execution_count": 2,
   "metadata": {},
   "outputs": [],
   "source": [
    "# Do not remove or edit the line below:\n",
    "filename = os.path.join(os.getcwd(), \"data\", \"cell2celltrain.csv\")"
   ]
  },
  {
   "cell_type": "markdown",
   "metadata": {},
   "source": [
    "**Task**: Load the data and save it to DataFrame `df`."
   ]
  },
  {
   "cell_type": "code",
   "execution_count": 3,
   "metadata": {},
   "outputs": [],
   "source": [
    "df = pd.read_csv(filename)"
   ]
  },
  {
   "cell_type": "markdown",
   "metadata": {},
   "source": [
    "#### Define the Label\n",
    "\n",
    "This is a binary classification problem in which we will predict customer churn. The label is the `Churn` column."
   ]
  },
  {
   "cell_type": "markdown",
   "metadata": {},
   "source": [
    "#### Identify Features\n",
    "\n",
    "To implement a Logistic Regression model, we must use only the numeric columns. \n",
    "\n",
    "\n",
    "<b>Task</b>: Use the Pandas DataFrame <code>select_dtypes()</code> method to obtain all of names of columns that have a dtype of \"float64.\" Save the result to a list named `feature_list`. "
   ]
  },
  {
   "cell_type": "code",
   "execution_count": 5,
   "metadata": {},
   "outputs": [],
   "source": [
    "feature_list = df.select_dtypes(include='float64').columns.tolist()"
   ]
  },
  {
   "cell_type": "markdown",
   "metadata": {},
   "source": [
    "## Part 2. Create Labeled Examples from the Data Set "
   ]
  },
  {
   "cell_type": "markdown",
   "metadata": {},
   "source": [
    "Our data is fully prepared for modeling. We can now create labeled examples from DataFrame `df`.\n",
    "\n",
    "<b>Task</b>: Obtain the feature columns from DataFrame `df` and assign to `X`. Obtain the label column from DataFrame `df` and assign to `y`.\n",
    "\n",
    "You should have 51047 labeled examples. Each example contains 35 features and one label."
   ]
  },
  {
   "cell_type": "code",
   "execution_count": 6,
   "metadata": {},
   "outputs": [],
   "source": [
    "# Create feature and label sets\n",
    "X = df[feature_list]\n",
    "y = df[\"Churn\"]\n"
   ]
  },
  {
   "cell_type": "markdown",
   "metadata": {},
   "source": [
    "## Part 3. Create Training and Test Data Sets"
   ]
  },
  {
   "cell_type": "markdown",
   "metadata": {},
   "source": [
    "<b>Task</b>: Create training and test data sets out of the labeled examples. Save the results to variables `X_train, X_test, y_train, y_test`."
   ]
  },
  {
   "cell_type": "code",
   "execution_count": 7,
   "metadata": {},
   "outputs": [],
   "source": [
    "X_train, X_test, y_train, y_test = train_test_split(X, y, test_size=0.33, random_state=42)"
   ]
  },
  {
   "cell_type": "markdown",
   "metadata": {},
   "source": [
    "<b>Task</b>: Check the dimensions of the training and test data sets."
   ]
  },
  {
   "cell_type": "code",
   "execution_count": 8,
   "metadata": {
    "scrolled": true
   },
   "outputs": [
    {
     "name": "stdout",
     "output_type": "stream",
     "text": [
      "X_train: (34201, 35)\n",
      "X_test: (16846, 35)\n",
      "y_train: (34201,)\n",
      "y_test: (16846,)\n"
     ]
    }
   ],
   "source": [
    "print(\"X_train:\", X_train.shape)\n",
    "print(\"X_test:\", X_test.shape)\n",
    "print(\"y_train:\", y_train.shape)\n",
    "print(\"y_test:\", y_test.shape)"
   ]
  },
  {
   "cell_type": "markdown",
   "metadata": {},
   "source": [
    "## Part 4. Train a Logistic Regression Classifier and Evaluate the Model"
   ]
  },
  {
   "cell_type": "markdown",
   "metadata": {},
   "source": [
    "The code cell below contains a function definition `train_test_LR()`. \n",
    "\n",
    "Inspect the function definition `train_test_LR(X_train, X_test, y_train, y_test, c=1)`. The function expects the training and test data sets, as well as a value for hyperparameter $C$. Note that we supplied the value of 1 for $C$ by default.\n",
    "\n",
    "<b>Task:</b> Complete the function to make it work.\n",
    "\n",
    "This function should:\n",
    "1. train a Logistic Regression model on the training data\n",
    "2. test the resulting model on the test data\n",
    "3. compute and return two items:\n",
    "    * the log loss of the resulting probability predictions on the test data \n",
    "    * the accuracy score of the resulting predicted class labels on the test data\n",
    "\n",
    "\n",
    "You will use the scikit-learn [```LogisticRegression``` class](https://scikit-learn.org/stable/modules/generated/sklearn.linear_model.LogisticRegression.html) and will provide the arguments `C=c` when creating the model object.\n",
    "\n",
    "\n"
   ]
  },
  {
   "cell_type": "code",
   "execution_count": 9,
   "metadata": {},
   "outputs": [],
   "source": [
    "def train_test_LR(X_train, y_train, X_test, y_test, c=1):\n",
    "    '''\n",
    "    Fit a Logistic Regression classifier and return log loss and accuracy.\n",
    "    '''\n",
    "    model = LogisticRegression(C=c, max_iter=1000)\n",
    "    model.fit(X_train, y_train)\n",
    "    \n",
    "    prob_preds = model.predict_proba(X_test)\n",
    "    logloss = log_loss(y_test, prob_preds)\n",
    "    \n",
    "    class_preds = model.predict(X_test)\n",
    "    acc = accuracy_score(y_test, class_preds)\n",
    "    \n",
    "    return logloss, acc"
   ]
  },
  {
   "cell_type": "markdown",
   "metadata": {},
   "source": [
    "### Train a Model and Analyze the Results"
   ]
  },
  {
   "cell_type": "markdown",
   "metadata": {},
   "source": [
    "<b>Task:</b> Use your function `train_test_LR()` to train one Logistic Regression classifier with the default value of hyperparameter C (`c=1`). Print the resulting log loss and accuracy score."
   ]
  },
  {
   "cell_type": "code",
   "execution_count": 10,
   "metadata": {},
   "outputs": [
    {
     "name": "stdout",
     "output_type": "stream",
     "text": [
      "Log Loss: 0.584423042977864\n",
      "Accuracy: 0.7118010210138905\n"
     ]
    }
   ],
   "source": [
    "logloss, acc = train_test_LR(X_train, y_train, X_test, y_test)\n",
    "print(\"Log Loss:\", logloss)\n",
    "print(\"Accuracy:\", acc)\n"
   ]
  },
  {
   "cell_type": "markdown",
   "metadata": {},
   "source": [
    "## Part 5. Train on Different Hyperparameter Values and Analyze the Results"
   ]
  },
  {
   "cell_type": "markdown",
   "metadata": {},
   "source": [
    "Now we will adjust the $C$ regularization hyperparameter to check its impact on the model's log loss and accuracy. Hyperparameter `C` stands for the inverse of regularization strength. Smaller values specify stronger regularization and a simpler model. Larger values specify weaker regularization and a more complex model.<br>\n",
    "\n",
    "The code cell below creates a list `cs` of twenty values of $C$.  Every item in the list has a value $10^i$ for every integer $i$ in the output of `range(-10,10)`. Run the code cell below and inspect the different values of $C$."
   ]
  },
  {
   "cell_type": "code",
   "execution_count": 11,
   "metadata": {},
   "outputs": [
    {
     "name": "stdout",
     "output_type": "stream",
     "text": [
      "C=1.0e-10 --> Log Loss: 0.6003, Accuracy: 0.7120\n",
      "C=1.0e-09 --> Log Loss: 0.6003, Accuracy: 0.7120\n",
      "C=1.0e-08 --> Log Loss: 0.6003, Accuracy: 0.7120\n",
      "C=1.0e-07 --> Log Loss: 0.6003, Accuracy: 0.7120\n",
      "C=1.0e-06 --> Log Loss: 0.6001, Accuracy: 0.7120\n",
      "C=1.0e-05 --> Log Loss: 0.5983, Accuracy: 0.7120\n",
      "C=1.0e-04 --> Log Loss: 0.5921, Accuracy: 0.7120\n",
      "C=1.0e-03 --> Log Loss: 0.5857, Accuracy: 0.7119\n",
      "C=1.0e-02 --> Log Loss: 0.5844, Accuracy: 0.7123\n",
      "C=1.0e-01 --> Log Loss: 0.5844, Accuracy: 0.7119\n",
      "C=1.0e+00 --> Log Loss: 0.5844, Accuracy: 0.7118\n",
      "C=1.0e+01 --> Log Loss: 0.5844, Accuracy: 0.7117\n",
      "C=1.0e+02 --> Log Loss: 0.5844, Accuracy: 0.7117\n",
      "C=1.0e+03 --> Log Loss: 0.5844, Accuracy: 0.7117\n",
      "C=1.0e+04 --> Log Loss: 0.5844, Accuracy: 0.7117\n",
      "C=1.0e+05 --> Log Loss: 0.5844, Accuracy: 0.7117\n",
      "C=1.0e+06 --> Log Loss: 0.5844, Accuracy: 0.7117\n",
      "C=1.0e+07 --> Log Loss: 0.5844, Accuracy: 0.7117\n",
      "C=1.0e+08 --> Log Loss: 0.5844, Accuracy: 0.7117\n",
      "C=1.0e+09 --> Log Loss: 0.5844, Accuracy: 0.7117\n"
     ]
    }
   ],
   "source": [
    "cs = [10**i for i in range(-10, 10)]\n",
    "\n",
    "log_losses = []\n",
    "accuracies = []\n",
    "\n",
    "for c in cs:\n",
    "    loss, acc = train_test_LR(X_train, y_train, X_test, y_test, c=c)\n",
    "    log_losses.append(loss)\n",
    "    accuracies.append(acc)\n",
    "    print(f\"C={c:.1e} --> Log Loss: {loss:.4f}, Accuracy: {acc:.4f}\")\n"
   ]
  },
  {
   "cell_type": "markdown",
   "metadata": {},
   "source": [
    "<b>Task</b>: In the code cell below, loop over list `cs` and train and evaluate a different Logistic Regression model for every value of $C$. Use your function `train_test_LR()`. Print the resulting log loss and accuracy scores per model.\n",
    "\n",
    "We will want to create visualizations that plot the resulting log loss and accuracy score for every value of hyperparameter $C$. Considering this, save the resulting log loss values and accuracy scores that your function returns to two different lists. You will use these lists to create plots later."
   ]
  },
  {
   "cell_type": "code",
   "execution_count": 12,
   "metadata": {},
   "outputs": [],
   "source": [
    "cs_log10 = np.log10(cs)\n"
   ]
  },
  {
   "cell_type": "markdown",
   "metadata": {},
   "source": [
    "Now let's visualize the results. \n",
    "\n",
    "Before we create plots, let's reformat the hyperparameter values in list `cs` so that they can be easily visualized in our plots. We will take the log 10 of the hyperparameter values and save it to a new list called `cs_log10`. Let's take a look at the original values and transformed values:\n",
    " "
   ]
  },
  {
   "cell_type": "code",
   "execution_count": null,
   "metadata": {},
   "outputs": [],
   "source": [
    "cs_log10 = np.log10(cs)\n",
    "\n",
    "print(cs)\n",
    "print(cs_log10)"
   ]
  },
  {
   "cell_type": "markdown",
   "metadata": {},
   "source": [
    "\n",
    "#### Plot Log Loss\n",
    "\n",
    "<b>Task:</b> Create a `seaborn` lineplot to plot the resulting log loss for every value of hyperparameter $C$. The hyperparameter $C$ should be plotted on the x axis and the log loss should be plotted on the y axis. Label the x and y axes accordingly. Use the transformed values of hyperparameter $C$ contained in the list `cs_log10`."
   ]
  },
  {
   "cell_type": "code",
   "execution_count": 13,
   "metadata": {},
   "outputs": [
    {
     "data": {
      "image/png": "[encoded data removed]",
      "text/plain": [
       "<Figure size 432x288 with 1 Axes>"
      ]
     },
     "metadata": {
      "needs_background": "light"
     },
     "output_type": "display_data"
    }
   ],
   "source": [
    "sns.lineplot(x=cs_log10, y=log_losses)\n",
    "plt.xlabel(\"log10(C)\")\n",
    "plt.ylabel(\"Log Loss\")\n",
    "plt.title(\"Log Loss vs Regularization (C)\")\n",
    "plt.show()\n"
   ]
  },
  {
   "cell_type": "markdown",
   "metadata": {},
   "source": [
    "<b>Analysis</b>: Which value of $C$ yields the best results, in terms of loss?"
   ]
  },
  {
   "cell_type": "markdown",
   "metadata": {},
   "source": [
    "<Double click this Markdown cell to make it editable, and record your findings here.>"
   ]
  },
  {
   "cell_type": "markdown",
   "metadata": {},
   "source": [
    "#### Plot Accuracy\n",
    "\n",
    "<b>Task:</b> Create a `seaborn` lineplot to plot the resulting accuracy score for every value of hyperparameter $C$. The hyperparameter $C$ should be plotted on the x axis and the accuracy score should be plotted on the y axis. Label the x and y axes accordingly. Use the transformed values of hyperparameter $C$ contained in the list `cs_log10`."
   ]
  },
  {
   "cell_type": "code",
   "execution_count": 14,
   "metadata": {},
   "outputs": [
    {
     "data": {
      "image/png": "[encoded data removed]",
      "text/plain": [
       "<Figure size 432x288 with 1 Axes>"
      ]
     },
     "metadata": {
      "needs_background": "light"
     },
     "output_type": "display_data"
    }
   ],
   "source": [
    "sns.lineplot(x=cs_log10, y=accuracies)\n",
    "plt.xlabel(\"log10(C)\")\n",
    "plt.ylabel(\"Accuracy\")\n",
    "plt.title(\"Accuracy vs Regularization (C)\")\n",
    "plt.show()\n"
   ]
  },
  {
   "cell_type": "markdown",
   "metadata": {},
   "source": [
    "<b>Analysis</b>: Which value of $C$ yields the best results, in terms of accuracy?"
   ]
  },
  {
   "cell_type": "markdown",
   "metadata": {},
   "source": [
    "The best value of C in terms of best accuracy is where the curve is maximized. It is often found at the lowest loss as well, but it can be at a slightly higher C (weaker regularization) as well."
   ]
  }
 ],
 "metadata": {
  "kernelspec": {
   "display_name": "Python 3",
   "language": "python",
   "name": "python3"
  },
  "language_info": {
   "codemirror_mode": {
    "name": "ipython",
    "version": 3
   },
   "file_extension": ".py",
   "mimetype": "text/x-python",
   "name": "python",
   "nbconvert_exporter": "python",
   "pygments_lexer": "ipython3",
   "version": "3.6.9"
  },
  "toc": {
   "base_numbering": 1,
   "nav_menu": {},
   "number_sections": false,
   "sideBar": true,
   "skip_h1_title": false,
   "title_cell": "Table of Contents",
   "title_sidebar": "Contents",
   "toc_cell": false,
   "toc_position": {},
   "toc_section_display": true,
   "toc_window_display": false
  },
  "varInspector": {
   "cols": {
    "lenName": 16,
    "lenType": 16,
    "lenVar": 40
   },
   "kernels_config": {
    "python": {
     "delete_cmd_postfix": "",
     "delete_cmd_prefix": "del ",
     "library": "var_list.py",
     "varRefreshCmd": "print(var_dic_list())"
    },
    "r": {
     "delete_cmd_postfix": ") ",
     "delete_cmd_prefix": "rm(",
     "library": "var_list.r",
     "varRefreshCmd": "cat(var_dic_list()) "
    }
   },
   "types_to_exclude": [
    "module",
    "function",
    "builtin_function_or_method",
    "instance",
    "_Feature"
   ],
   "window_display": false
  }
 },
 "nbformat": 4,
 "nbformat_minor": 2
}
